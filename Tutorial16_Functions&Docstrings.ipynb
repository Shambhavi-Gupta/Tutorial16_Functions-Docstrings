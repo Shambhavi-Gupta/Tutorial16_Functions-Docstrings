{
  "nbformat": 4,
  "nbformat_minor": 0,
  "metadata": {
    "colab": {
      "name": "Tutorial16_Functions&Docstrings.ipynb",
      "provenance": [],
      "authorship_tag": "ABX9TyOdtyax4kuH9D8VCFdKT/Nj",
      "include_colab_link": true
    },
    "kernelspec": {
      "name": "python3",
      "display_name": "Python 3"
    }
  },
  "cells": [
    {
      "cell_type": "markdown",
      "metadata": {
        "id": "view-in-github",
        "colab_type": "text"
      },
      "source": [
        "<a href=\"https://colab.research.google.com/github/Shambhavi-Gupta/Tutorial16_Functions-Docstrings/blob/main/Tutorial16_Functions%26Docstrings.ipynb\" target=\"_parent\"><img src=\"https://colab.research.google.com/assets/colab-badge.svg\" alt=\"Open In Colab\"/></a>"
      ]
    },
    {
      "cell_type": "code",
      "metadata": {
        "id": "JDOgnIH9_cOk"
      },
      "source": [
        "# a = 2\r\n",
        "# b = 4\r\n",
        "# c = sum((a,b))   #builtin function\r\n",
        "# print(c)\r\n",
        "\r\n",
        "# def function():   #function declaration\r\n",
        "#     print(\"My name is Shambhavi\")\r\n",
        "#\r\n",
        "# function()   #function calling\r\n",
        "\r\n",
        "\r\n",
        "\r\n",
        "# def function(a,b):\r\n",
        "#     print(\"My name is Shambhavi\" , a-b)\r\n",
        "#\r\n",
        "# function(5,1)\r\n",
        "\r\n",
        "\r\n",
        "def newfunction(a,b):\r\n",
        "    \"\"\"This is a function which will calculate the product (this is a doc string) \"\"\"\r\n",
        "    multiply = a*b\r\n",
        "    print(multiply)\r\n",
        "    return multiply\r\n",
        "s = newfunction(2,5)\r\n",
        "print(s)\r\n",
        "print(newfunction . __doc__)"
      ],
      "execution_count": null,
      "outputs": []
    }
  ]
}